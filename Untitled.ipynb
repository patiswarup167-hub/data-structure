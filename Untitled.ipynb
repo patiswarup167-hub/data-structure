{
  "nbformat": 4,
  "nbformat_minor": 0,
  "metadata": {
    "colab": {
      "provenance": []
    },
    "kernelspec": {
      "name": "python3",
      "display_name": "Python 3"
    },
    "language_info": {
      "name": "python"
    }
  },
  "cells": [
    {
      "cell_type": "code",
      "execution_count": 6,
      "metadata": {
        "id": "DEaP2t6ZTBLQ"
      },
      "outputs": [],
      "source": []
    },
    {
      "cell_type": "markdown",
      "source": [],
      "metadata": {
        "id": "H_kpVw2_TDH8"
      }
    },
    {
      "cell_type": "markdown",
      "source": [
        "#Data structures\n"
      ],
      "metadata": {
        "id": "ZKGDkzoGmVbc"
      }
    },
    {
      "cell_type": "markdown",
      "source": [
        "1.what are data structures and why are they important?\n",
        "\n",
        " ans-\n",
        "\n",
        "  Organized ways to store/manage data (e.g., list, tuple, set, dict).\n",
        " They improve efficiency, readability, and let you pick the right tool for operations (searching, inserting, deduping, mapping).\n",
        "\n",
        "2.Explain the difference between mutable and immutable data types with examples.\n",
        "  \n",
        "  \n",
        "  ans-\n",
        "  \n",
        "  Mutable: can change in place — list, dict, set.\n",
        "  a = [1,2]; a.append(3)  # a becomes [1,2,3]\n",
        "-Immutable: cannot change in place — int, float, str, tuple.\n",
        "s = \"hi\"; s = s + \"!\"   # creates a new string.\n",
        "\n",
        "3.What are the main differences between lists and tuples in Python?\n",
        "  \n",
        "  ans-\n",
        "  \n",
        "  List: [], mutable, typically for homogeneous/variable data, more methods.\n",
        "\n",
        "Tuple: (), immutable, hashable if elements are hashable, safer for fixed data; slightly faster and memory-lighter.\n",
        "\n",
        "4.Describe how dictionaries store data.\n",
        "\n",
        "ans-\n",
        "\n",
        "As key→value mappings using a hash table under the hood.\n",
        "   keys hashed to find value buckets.\n",
        "\n",
        "\n",
        "5.Why might you use a set instead of a list in Python?\n",
        "\n",
        "ans-\n",
        "\n",
        "For uniqueness (auto-deduplication) and fast membership tests (in is average O(1) vs O(n) for lists).\n",
        "\n",
        "6.What is a string in Python, and how is it different from a list?\n",
        "\n",
        "ans-\n",
        "\n",
        "A string is an immutable sequence of Unicode characters; a list is a mutable sequence of arbitrary Python objects.\n",
        "\n",
        "\n",
        "7.How do tuples ensure data integrity in python?\n",
        "\n",
        "ans-\n",
        "\n",
        "Immutability prevents accidental modification; can be used as dict keys and set elements when containing only hashable items.\n",
        "\n",
        "8.what is a hash table and relation to dictaionaries in python?\n",
        "\n",
        "ans-\n",
        "\n",
        "\n",
        "A hash table maps each key’s hash to a slot/index; Python dicts (and sets) use hash tables for fast average O(1) access.\n",
        "\n",
        "9.Can lists contain different data types in python?\n",
        "\n",
        "ans-\n",
        "\n",
        "Yes. Lists can mix types (e.g., [1, \"a\", 3.5, True]).\n",
        "\n",
        "10.Explain why strings are immutable in python?\n",
        "\n",
        "ans-\n",
        "\n",
        "Design choice for safety, caching/interning, and enabling strings to be hashable (usable as dict keys) and thread-safe.\n",
        "\n",
        "11.What advantages do dictioary offer over lists for certain tasks?\n",
        "\n",
        "ans-\n",
        "\n",
        "Fast lookup by key, natural key→value modeling, no need to scan the whole structure to find a named item.\n",
        "\n",
        "12.Describe a scenario where using a tuple would be preferable over a list?\n",
        "\n",
        "ans-\n",
        "\n",
        "When data is fixed/record-like (e.g., coordinates (x, y)), must be hashable (as a key), or for slight performance/memory gains.\n",
        "\n",
        "13.How do sets handle duplicate values in python?\n",
        "\n",
        "ans-\n",
        "\n",
        "Duplicates are discarded automatically; each element is unique.\n",
        "\n",
        "14.How does the “in” keyword work differently for lists and dictionaries?\n",
        "\n",
        "ans-\n",
        "\n",
        "List: checks if an element equals any item (linear scan).\n",
        "\n",
        "Dict: checks keys only (average O(1)); use in mydict.values() for values (linear).\n",
        "\n",
        "15.Can you modify elements of a tuple?Explain why or why not.\n",
        "\n",
        "ans\n",
        "\n",
        "No—tuples are immutable. You must create a new tuple, e.g., t = t[:1] + (new,) + t[2:].\n",
        "\n",
        "\n",
        "16.What is a nested dictionary, and give an example of its use case?\n",
        "\n",
        "ans-\n",
        "\n",
        "A dict containing dicts:\n",
        "\n",
        "students = {\"A001\": {\"name\":\"Ana\",\"age\":20}, \"A002\": {\"name\":\"Raj\",\"age\":22}}\n",
        "\n",
        "\n",
        "Great for hierarchical/structured data (e.g., records, JSON-like data).\n",
        "\n",
        "17.Describe the time complexity of accessing elements in a dictionary.\n",
        "\n",
        "ans-\n",
        "\n",
        "Time complexity of accessing in a dict\n",
        "Average case O(1); worst case O(n) is rare (heavy hash collisions).\n",
        "\n",
        "18.In what situations are lists preferred over dictionaries?\n",
        "\n",
        "ans-\n",
        "\n",
        "Ordered sequences, index-based access, duplicates allowed, when order operations like slicing, sorting, or positional iteration matter.\n",
        "\n",
        "19.Why are dictionary are considered unordered & how does that effect on retrieval?\n",
        "\n",
        "ans-\n",
        "\n",
        "They’re mappings keyed by value, not by position; you don’t access by index. (Implementation preserves insertion order since 3.7, but conceptually they’re for key-based access, not positional indexing.)\n",
        "\n",
        "20.Explain the difference between a list and a dictionary in terms of data retrieval.\n",
        "\n",
        "ans-\n",
        "\n",
        "List: retrieve by numeric index (L[i], O(1)); searching by value is O(n).\n",
        "\n",
        "Dict: retrieve by key (D[key], average O(1)); no positional access.\n"
      ],
      "metadata": {
        "id": "mkVEwJfRoz-m"
      }
    },
    {
      "cell_type": "markdown",
      "source": [
        "#Practical questions\n"
      ],
      "metadata": {
        "id": "NAzDAVmuzvd1"
      }
    },
    {
      "cell_type": "markdown",
      "source": [
        "1.Write a code to create a string with your name and print it"
      ],
      "metadata": {
        "id": "4m-_DyTr6T_5"
      }
    },
    {
      "cell_type": "code",
      "source": [
        "# 1. Create a string with your name and print it.\n",
        "name = \"xyz\"\n",
        "print(name)"
      ],
      "metadata": {
        "colab": {
          "base_uri": "https://localhost:8080/"
        },
        "id": "JcZ2XISdxpbx",
        "outputId": "21010d20-39c9-44fa-cf2d-9cadafa75cf1"
      },
      "execution_count": 8,
      "outputs": [
        {
          "output_type": "stream",
          "name": "stdout",
          "text": [
            "xyz\n"
          ]
        }
      ]
    },
    {
      "cell_type": "markdown",
      "source": [
        "2.Write a code to find the length of the string \"Hello World\""
      ],
      "metadata": {
        "id": "Ien8OrJI6d65"
      }
    },
    {
      "cell_type": "code",
      "source": [
        "# 2. Length of \"Hello World\".\n",
        "s = \"Hello World\"\n",
        "print(len(s))"
      ],
      "metadata": {
        "colab": {
          "base_uri": "https://localhost:8080/"
        },
        "id": "LR4gQvZWyZT4",
        "outputId": "216b673d-8216-46bc-82fd-9a2fedd612fc"
      },
      "execution_count": 9,
      "outputs": [
        {
          "output_type": "stream",
          "name": "stdout",
          "text": [
            "11\n"
          ]
        }
      ]
    },
    {
      "cell_type": "markdown",
      "source": [
        "3.Write a code to slice the first 3 characters from the string \"Python Programming\""
      ],
      "metadata": {
        "id": "w44mVIbP6kwL"
      }
    },
    {
      "cell_type": "code",
      "source": [
        "#3. Slice first 3 characters from \"Python Programming\".\n",
        "s = \"Python Programming\"\n",
        "print(s[:3])"
      ],
      "metadata": {
        "colab": {
          "base_uri": "https://localhost:8080/"
        },
        "id": "JdZeVm6Sy1xC",
        "outputId": "323b9fc9-f478-4465-855a-8e5d198bc7ce"
      },
      "execution_count": 11,
      "outputs": [
        {
          "output_type": "stream",
          "name": "stdout",
          "text": [
            "Pyt\n"
          ]
        }
      ]
    },
    {
      "cell_type": "markdown",
      "source": [
        "4.Write a code to convert the string \"hello\" to uppercase"
      ],
      "metadata": {
        "id": "m0pXQwMZ6qxz"
      }
    },
    {
      "cell_type": "code",
      "source": [
        "# 4. Convert \"hello\" to uppercase.\n",
        "print(\"hello\".upper())"
      ],
      "metadata": {
        "colab": {
          "base_uri": "https://localhost:8080/"
        },
        "id": "93ITMIPs08jJ",
        "outputId": "3f4eef1f-7f25-49ff-c5aa-30e7572f7b8c"
      },
      "execution_count": 12,
      "outputs": [
        {
          "output_type": "stream",
          "name": "stdout",
          "text": [
            "HELLO\n"
          ]
        }
      ]
    },
    {
      "cell_type": "markdown",
      "source": [
        "5.Write a code to replace the word \"apple\" with \"orange\" in the string \"I like apple\""
      ],
      "metadata": {
        "id": "rSCK1yA76zhf"
      }
    },
    {
      "cell_type": "code",
      "source": [
        "# 5. Replace \"apple\" with \"orange\" in \"I like apple\".\n",
        "print(\"I like apple\".replace(\"apple\", \"orange\"))"
      ],
      "metadata": {
        "colab": {
          "base_uri": "https://localhost:8080/"
        },
        "id": "Nk1Vo2eR1NL6",
        "outputId": "1aa1553f-296e-4347-d49e-3541b73188b0"
      },
      "execution_count": 13,
      "outputs": [
        {
          "output_type": "stream",
          "name": "stdout",
          "text": [
            "I like orange\n"
          ]
        }
      ]
    },
    {
      "cell_type": "markdown",
      "source": [
        "6.Write a code to create a list with numbers 1 to 5 and print it"
      ],
      "metadata": {
        "id": "HSFf2GZ-64qJ"
      }
    },
    {
      "cell_type": "code",
      "source": [
        "# 6. Create a list with numbers 1 to 5 and print it.\n",
        "lst = list(range(1, 6))\n",
        "print(lst)"
      ],
      "metadata": {
        "colab": {
          "base_uri": "https://localhost:8080/"
        },
        "id": "nvnBqluA1XY4",
        "outputId": "010a8ccb-8d61-49b1-bd9a-378d1d189b06"
      },
      "execution_count": 14,
      "outputs": [
        {
          "output_type": "stream",
          "name": "stdout",
          "text": [
            "[1, 2, 3, 4, 5]\n"
          ]
        }
      ]
    },
    {
      "cell_type": "markdown",
      "source": [],
      "metadata": {
        "id": "b5aM1eVA7CrO"
      }
    },
    {
      "cell_type": "markdown",
      "source": [
        "7.Write a code to create a list with numbers 1 to 5 and print it"
      ],
      "metadata": {
        "id": "GLG_6New7hbe"
      }
    },
    {
      "cell_type": "code",
      "source": [
        "# 7. Append 10 to the list [1, 2, 3, 4].\n",
        "lst = [1, 2, 3, 4]\n",
        "lst.append(10)\n",
        "print(lst)  # [1,2,3,4,10]"
      ],
      "metadata": {
        "colab": {
          "base_uri": "https://localhost:8080/"
        },
        "id": "dL4KO1F71e0b",
        "outputId": "c6fe5711-3f29-430c-8b9d-dc270d3d4ced"
      },
      "execution_count": 15,
      "outputs": [
        {
          "output_type": "stream",
          "name": "stdout",
          "text": [
            "[1, 2, 3, 4, 10]\n"
          ]
        }
      ]
    },
    {
      "cell_type": "markdown",
      "source": [
        "8.Write a code to append the number 10 to the list [1, 2, 3, 4]"
      ],
      "metadata": {
        "id": "sKaPJ8Qs7n5_"
      }
    },
    {
      "cell_type": "code",
      "source": [
        "# 8. Remove the number 3 from the list [1, 2, 3, 4, 5].\n",
        "lst = [1, 2, 3, 4, 5]\n",
        "lst.remove(3)\n",
        "print(lst)  # [1,2,4,5]"
      ],
      "metadata": {
        "colab": {
          "base_uri": "https://localhost:8080/"
        },
        "id": "N3dkoQsE1nEL",
        "outputId": "5913ab96-6d01-4566-a927-25f9787c06fd"
      },
      "execution_count": 16,
      "outputs": [
        {
          "output_type": "stream",
          "name": "stdout",
          "text": [
            "[1, 2, 4, 5]\n"
          ]
        }
      ]
    },
    {
      "cell_type": "markdown",
      "source": [
        "9.Write a code to access the second element in the list ['a', 'b', 'c', 'd']"
      ],
      "metadata": {
        "id": "lI7bwEhL7uH9"
      }
    },
    {
      "cell_type": "code",
      "source": [
        "# 9. Access the second element in ['a', 'b', 'c', 'd'].\n",
        "lst = ['a', 'b', 'c', 'd']\n",
        "print(lst[1])  # 'b'\n"
      ],
      "metadata": {
        "colab": {
          "base_uri": "https://localhost:8080/"
        },
        "id": "TzC345Iw1wfL",
        "outputId": "b84b1981-1674-4f9a-e82d-f683502eb6fc"
      },
      "execution_count": 17,
      "outputs": [
        {
          "output_type": "stream",
          "name": "stdout",
          "text": [
            "b\n"
          ]
        }
      ]
    },
    {
      "cell_type": "markdown",
      "source": [
        "10. Write a code to reverse the list [10, 20, 30, 40, 50]."
      ],
      "metadata": {
        "id": "8aM4il_o8Qe7"
      }
    },
    {
      "cell_type": "code",
      "source": [
        "# 10. Reverse the list [10, 20, 30, 40, 50].\n",
        "lst = [10, 20, 30, 40, 50]\n",
        "lst.reverse()            # or lst[::-1]\n",
        "print(lst)               # [50, 40, 30, 20, 10]"
      ],
      "metadata": {
        "colab": {
          "base_uri": "https://localhost:8080/"
        },
        "id": "UNcRi_ux14VA",
        "outputId": "025c88dd-30b8-4c45-b610-a1b8d1fbe21b"
      },
      "execution_count": 18,
      "outputs": [
        {
          "output_type": "stream",
          "name": "stdout",
          "text": [
            "[50, 40, 30, 20, 10]\n"
          ]
        }
      ]
    },
    {
      "cell_type": "markdown",
      "source": [
        "11. Write a code to create a tuple with the elements 100, 200, 300 and print it."
      ],
      "metadata": {
        "id": "Mm4LpJqS8Ywx"
      }
    },
    {
      "cell_type": "code",
      "source": [
        "# 11. Create tuple (100, 200, 300) and print.\n",
        "t = (100, 200, 300)\n",
        "print(t)"
      ],
      "metadata": {
        "colab": {
          "base_uri": "https://localhost:8080/"
        },
        "id": "JOWhZcfl2AD1",
        "outputId": "b1094f23-00ed-47ce-e673-cb259e692127"
      },
      "execution_count": 19,
      "outputs": [
        {
          "output_type": "stream",
          "name": "stdout",
          "text": [
            "(100, 200, 300)\n"
          ]
        }
      ]
    },
    {
      "cell_type": "markdown",
      "source": [
        "12. Write a code to access the second-to-last element of the tuple\n",
        "\n",
        " ('red', 'green', 'blue', 'yellow')."
      ],
      "metadata": {
        "id": "RRr_ctv08ifm"
      }
    },
    {
      "cell_type": "code",
      "source": [
        "# 12. Access second-to-last of ('red','green','blue','yellow').\n",
        "t = ('red', 'green', 'blue', 'yellow')\n",
        "print(t[-2])  # 'blue'"
      ],
      "metadata": {
        "colab": {
          "base_uri": "https://localhost:8080/"
        },
        "id": "kJShwgFK2Jof",
        "outputId": "0bdb1507-daff-49b4-c0b7-746752b9b7f2"
      },
      "execution_count": 20,
      "outputs": [
        {
          "output_type": "stream",
          "name": "stdout",
          "text": [
            "blue\n"
          ]
        }
      ]
    },
    {
      "cell_type": "markdown",
      "source": [
        "13. Write a code to find the minimum number in the tuple (10, 20, 5, 15)."
      ],
      "metadata": {
        "id": "glmDQinA8rZm"
      }
    },
    {
      "cell_type": "code",
      "source": [
        "# 13. Find minimum in (10, 20, 5, 15).\n",
        "t = (10, 20, 5, 15)\n",
        "print(min(t))  # 5"
      ],
      "metadata": {
        "colab": {
          "base_uri": "https://localhost:8080/"
        },
        "id": "vwRXkZlH2Sw6",
        "outputId": "37b8250c-a559-44a2-aa8a-7bdfcb924fb4"
      },
      "execution_count": 21,
      "outputs": [
        {
          "output_type": "stream",
          "name": "stdout",
          "text": [
            "5\n"
          ]
        }
      ]
    },
    {
      "cell_type": "markdown",
      "source": [
        "14. Write a code to find the index of the element \"cat\" in the tuple ('dog', 'cat', 'rabbit')."
      ],
      "metadata": {
        "id": "5tLu40lP8wH1"
      }
    },
    {
      "cell_type": "code",
      "source": [
        "# 14. Index of 'cat' in ('dog','cat','rabbit').\n",
        "t = ('dog', 'cat', 'rabbit')\n",
        "print(t.index('cat'))  # 1"
      ],
      "metadata": {
        "colab": {
          "base_uri": "https://localhost:8080/"
        },
        "id": "s3VwYu6u2ZR4",
        "outputId": "3880e6b2-4629-452d-d76d-4a88cb5ffd6d"
      },
      "execution_count": 22,
      "outputs": [
        {
          "output_type": "stream",
          "name": "stdout",
          "text": [
            "1\n"
          ]
        }
      ]
    },
    {
      "cell_type": "markdown",
      "source": [
        "15. Write a code to create a tuple containing three different fruits and check if \"kiwi\" is in it.\n"
      ],
      "metadata": {
        "id": "WJU-JCUt9E2G"
      }
    },
    {
      "cell_type": "code",
      "source": [
        "# 15. Tuple with three different fruits; check if \"kiwi\" in it.\n",
        "fruits = ('apple', 'mango', 'banana')\n",
        "print('kiwi' in fruits)  # False"
      ],
      "metadata": {
        "colab": {
          "base_uri": "https://localhost:8080/"
        },
        "id": "VjrAfaLw2eqF",
        "outputId": "13eb89e1-4458-494b-a864-c6aa5b917a3b"
      },
      "execution_count": 23,
      "outputs": [
        {
          "output_type": "stream",
          "name": "stdout",
          "text": [
            "False\n"
          ]
        }
      ]
    },
    {
      "cell_type": "markdown",
      "source": [
        "16. Write a code to create a set with the elements 'a', 'b', 'c' and print it.\n"
      ],
      "metadata": {
        "id": "Jiy0lWBP9LpN"
      }
    },
    {
      "cell_type": "code",
      "source": [
        "# 16. Create set {'a','b','c'} and print it.\n",
        "st = {'a', 'b', 'c'}\n",
        "print(st)"
      ],
      "metadata": {
        "colab": {
          "base_uri": "https://localhost:8080/"
        },
        "id": "jHKmSb2J2kqX",
        "outputId": "49af2a18-dffc-49d4-a698-3bd1c97e8983"
      },
      "execution_count": 24,
      "outputs": [
        {
          "output_type": "stream",
          "name": "stdout",
          "text": [
            "{'a', 'b', 'c'}\n"
          ]
        }
      ]
    },
    {
      "cell_type": "markdown",
      "source": [
        "17. Write a code to clear all elements from the set {1, 2, 3, 4, 5}.\n"
      ],
      "metadata": {
        "id": "c8ihxOeX9P0o"
      }
    },
    {
      "cell_type": "code",
      "source": [
        "# 17. Clear all elements from {1,2,3,4,5}.\n",
        "st = {1, 2, 3, 4, 5}\n",
        "st.clear()\n",
        "print(st)  # set()"
      ],
      "metadata": {
        "colab": {
          "base_uri": "https://localhost:8080/"
        },
        "id": "8iWHGaqp2pVF",
        "outputId": "c8623b2c-aa08-4865-c9d6-b5173f44b249"
      },
      "execution_count": 25,
      "outputs": [
        {
          "output_type": "stream",
          "name": "stdout",
          "text": [
            "set()\n"
          ]
        }
      ]
    },
    {
      "cell_type": "markdown",
      "source": [
        "18. Write a code to remove the element 4 from the set {1, 2, 3, 4}.\n"
      ],
      "metadata": {
        "id": "ZrhJCni49UMi"
      }
    },
    {
      "cell_type": "code",
      "source": [
        "# 18. Remove the element 4 from {1,2,3,4}.\n",
        "st = {1, 2, 3, 4}\n",
        "st.remove(4)     # or st.discard(4) to avoid KeyError if missing\n",
        "print(st)        # {1,2,3}\n"
      ],
      "metadata": {
        "colab": {
          "base_uri": "https://localhost:8080/"
        },
        "id": "-ZDg2y2Y2yuC",
        "outputId": "831fbf78-31e0-4a9b-be50-e60591a7be17"
      },
      "execution_count": 26,
      "outputs": [
        {
          "output_type": "stream",
          "name": "stdout",
          "text": [
            "{1, 2, 3}\n"
          ]
        }
      ]
    },
    {
      "cell_type": "markdown",
      "source": [
        "19. Write a code to find the union of two sets {1, 2, 3} and {3, 4, 5}.\n"
      ],
      "metadata": {
        "id": "2xMW5lo19Y8F"
      }
    },
    {
      "cell_type": "code",
      "source": [
        "# 19. Union of two sets {1,2,3} and {3,4,5}.\n",
        "a, b = {1, 2, 3}, {3, 4, 5}\n",
        "print(a | b)     # {1,2,3,4,5}"
      ],
      "metadata": {
        "colab": {
          "base_uri": "https://localhost:8080/"
        },
        "id": "iYrQCx0W23l_",
        "outputId": "40f54cee-5d46-4f9d-aea0-227c5672bb45"
      },
      "execution_count": 27,
      "outputs": [
        {
          "output_type": "stream",
          "name": "stdout",
          "text": [
            "{1, 2, 3, 4, 5}\n"
          ]
        }
      ]
    },
    {
      "cell_type": "markdown",
      "source": [
        "20. Write a code to find the intersection of two sets {1, 2, 3} and {2, 3, 4}.\n"
      ],
      "metadata": {
        "id": "KDtj8itT9eLJ"
      }
    },
    {
      "cell_type": "code",
      "source": [
        "# 20. Intersection of two sets {1,2,3} and {2,3,4}.\n",
        "a, b = {1, 2, 3}, {2, 3, 4}\n",
        "print(a & b)     # {2,3}"
      ],
      "metadata": {
        "colab": {
          "base_uri": "https://localhost:8080/"
        },
        "id": "uC2QKZCI271l",
        "outputId": "43b82697-3924-41ae-d4d2-4bd893715c0d"
      },
      "execution_count": 28,
      "outputs": [
        {
          "output_type": "stream",
          "name": "stdout",
          "text": [
            "{2, 3}\n"
          ]
        }
      ]
    },
    {
      "cell_type": "markdown",
      "source": [
        "21. Write a code to create a dictionary with the keys \"name\", \"age\", and \"city\", and print it."
      ],
      "metadata": {
        "id": "YZ3LFcMt9jl_"
      }
    },
    {
      "cell_type": "code",
      "source": [
        "# 21. Create dict with keys \"name\", \"age\", \"city\".\n",
        "d = {\"name\": \"Alice\", \"age\": 30, \"city\": \"Paris\"}\n",
        "print(d)"
      ],
      "metadata": {
        "colab": {
          "base_uri": "https://localhost:8080/"
        },
        "id": "SW5ahNjF3B14",
        "outputId": "7de6df0b-99f5-428b-e064-5f41b2807cd7"
      },
      "execution_count": 29,
      "outputs": [
        {
          "output_type": "stream",
          "name": "stdout",
          "text": [
            "{'name': 'Alice', 'age': 30, 'city': 'Paris'}\n"
          ]
        }
      ]
    },
    {
      "cell_type": "markdown",
      "source": [
        "22. Write a code to add a new key-value pair \"country\": \"USA\" to the dictionary {'name': 'John', 'age': 25}."
      ],
      "metadata": {
        "id": "zyVWMCNy9qdq"
      }
    },
    {
      "cell_type": "code",
      "source": [
        "# 22. Add key-value pair \"country\":\"USA\" to {'name':'John','age':25}.\n",
        "d = {\"name\": \"John\", \"age\": 25}\n",
        "d[\"country\"] = \"USA\"\n",
        "print(d)"
      ],
      "metadata": {
        "colab": {
          "base_uri": "https://localhost:8080/"
        },
        "id": "Z5LsZpin3I-e",
        "outputId": "3bc3eba8-c8f8-4e9b-c061-79a621b72b80"
      },
      "execution_count": 30,
      "outputs": [
        {
          "output_type": "stream",
          "name": "stdout",
          "text": [
            "{'name': 'John', 'age': 25, 'country': 'USA'}\n"
          ]
        }
      ]
    },
    {
      "cell_type": "markdown",
      "source": [
        "23. Write a code to access the value associated with the key \"name\" in the dictionary {'name': 'Alice', 'age': 30}"
      ],
      "metadata": {
        "id": "VU6VA95V9vFv"
      }
    },
    {
      "cell_type": "code",
      "source": [
        "# 23. Access value for key \"name\" in {'name':'Alice','age':30}.\n",
        "d = {\"name\": \"Alice\", \"age\": 30}\n",
        "print(d[\"name\"])  # 'Alice'"
      ],
      "metadata": {
        "colab": {
          "base_uri": "https://localhost:8080/"
        },
        "id": "jHZ1L7YT3O5J",
        "outputId": "a0996d40-e86b-42c3-a4e5-d4cc5d157cf3"
      },
      "execution_count": 31,
      "outputs": [
        {
          "output_type": "stream",
          "name": "stdout",
          "text": [
            "Alice\n"
          ]
        }
      ]
    },
    {
      "cell_type": "markdown",
      "source": [
        "24. Write a code to remove the key \"age\" from the dictionary {'name': 'Bob', 'age': 22, 'city': 'New York'}.\n"
      ],
      "metadata": {
        "id": "oUB6sCjJ91t0"
      }
    },
    {
      "cell_type": "code",
      "source": [
        "# 24. Remove key \"age\" from {'name':'Bob','age':22,'city':'New York'}.\n",
        "d = {\"name\": \"Bob\", \"age\": 22, \"city\": \"New York\"}\n",
        "d.pop(\"age\")       # or del d[\"age\"]\n",
        "print(d)           # {'name':'Bob','city':'New York'}"
      ],
      "metadata": {
        "colab": {
          "base_uri": "https://localhost:8080/"
        },
        "id": "I8MweynL3UCX",
        "outputId": "2bd18d1c-0d63-4b03-c691-318f2f56b683"
      },
      "execution_count": 32,
      "outputs": [
        {
          "output_type": "stream",
          "name": "stdout",
          "text": [
            "{'name': 'Bob', 'city': 'New York'}\n"
          ]
        }
      ]
    },
    {
      "cell_type": "markdown",
      "source": [
        "25. Write a code to check if the key \"city\" exists in the dictionary {'name': 'Alice', 'city': 'Paris'}."
      ],
      "metadata": {
        "id": "SRmda9bH97Oy"
      }
    },
    {
      "cell_type": "code",
      "source": [
        "# 25. Check if key \"city\" exists in {'name':'Alice','city':'Paris'}.\n",
        "d = {\"name\": \"Alice\", \"city\": \"Paris\"}\n",
        "print(\"city\" in d)  # True"
      ],
      "metadata": {
        "colab": {
          "base_uri": "https://localhost:8080/"
        },
        "id": "jLPAV_s43Y_K",
        "outputId": "fe7ca799-238d-46a4-f3c2-234224cb17d4"
      },
      "execution_count": 33,
      "outputs": [
        {
          "output_type": "stream",
          "name": "stdout",
          "text": [
            "True\n"
          ]
        }
      ]
    },
    {
      "cell_type": "markdown",
      "source": [
        "26. Write a code to create a list, a tuple, and a dictionary, and print them all.\n"
      ],
      "metadata": {
        "id": "Hy3fI4Wf-B7G"
      }
    },
    {
      "cell_type": "code",
      "source": [
        " 26.# Create a list, a tuple, and a dictionary; print them all.\n",
        "my_list = [1, 2, 3]\n",
        "my_tuple = (4, 5, 6)\n",
        "my_dict = {\"a\": 7, \"b\": 8}\n",
        "print(my_list, my_tuple, my_dict)"
      ],
      "metadata": {
        "colab": {
          "base_uri": "https://localhost:8080/"
        },
        "id": "pK6OL-kW3hkg",
        "outputId": "b7fd7167-ebd5-4ef7-b165-75f52de13738"
      },
      "execution_count": 35,
      "outputs": [
        {
          "output_type": "stream",
          "name": "stdout",
          "text": [
            "[1, 2, 3] (4, 5, 6) {'a': 7, 'b': 8}\n"
          ]
        }
      ]
    },
    {
      "cell_type": "markdown",
      "source": [
        "27. Write a code to create a list of 5 random numbers between 1 and 100, sort it in ascending order, and print the\n",
        "result.(replaced)"
      ],
      "metadata": {
        "id": "4UpPjqKk-I6V"
      }
    },
    {
      "cell_type": "code",
      "source": [
        "# 27. List of 5 random numbers between 1 and 100, sort ascending, print (replaced).\n",
        "import random\n",
        "nums = [random.randint(1, 100) for _ in range(5)]\n",
        "nums.sort()\n",
        "print(nums)\n"
      ],
      "metadata": {
        "colab": {
          "base_uri": "https://localhost:8080/"
        },
        "id": "mqXwcHjz3puC",
        "outputId": "b70261da-c4da-4818-aff9-2a0c1d3f3de5"
      },
      "execution_count": 36,
      "outputs": [
        {
          "output_type": "stream",
          "name": "stdout",
          "text": [
            "[48, 62, 76, 80, 96]\n"
          ]
        }
      ]
    },
    {
      "cell_type": "markdown",
      "source": [
        "28. Write a code to create a list with strings and print the element at the third index."
      ],
      "metadata": {
        "id": "_Ru4wu_6-NqN"
      }
    },
    {
      "cell_type": "code",
      "source": [
        "# 28. Create a list with strings and print the element at the third index.\n",
        "lst = [\"zero\", \"one\", \"two\", \"three\", \"four\"]\n",
        "print(lst[3])  # 'three'"
      ],
      "metadata": {
        "colab": {
          "base_uri": "https://localhost:8080/"
        },
        "id": "0uxfgU3y3wZA",
        "outputId": "d612fb8b-5516-403a-fbbb-06b0ab0a0c28"
      },
      "execution_count": 37,
      "outputs": [
        {
          "output_type": "stream",
          "name": "stdout",
          "text": [
            "three\n"
          ]
        }
      ]
    },
    {
      "cell_type": "markdown",
      "source": [
        "29. Write a code to combine two dictionaries into one and print the result.\n"
      ],
      "metadata": {
        "id": "zY66GhDl-R9X"
      }
    },
    {
      "cell_type": "code",
      "source": [
        "# 29. Combine two dictionaries into one and print result.\n",
        "d1 = {\"a\": 1, \"b\": 2}\n",
        "d2 = {\"b\": 99, \"c\": 3}\n",
        "combined = d1 | d2          # Python 3.9+: right dict wins on conflicts\n",
        "# For older versions: combined = {**d1, **d2}\n",
        "print(combined)             # {'a':1,'b':99,'c':3}"
      ],
      "metadata": {
        "colab": {
          "base_uri": "https://localhost:8080/"
        },
        "id": "xd7Sz4Pk308O",
        "outputId": "8eb9f0dd-7c0b-479e-a9f4-c60f307fcc8e"
      },
      "execution_count": 38,
      "outputs": [
        {
          "output_type": "stream",
          "name": "stdout",
          "text": [
            "{'a': 1, 'b': 99, 'c': 3}\n"
          ]
        }
      ]
    },
    {
      "cell_type": "markdown",
      "source": [
        "30. Write a code to convert a list of strings into a set"
      ],
      "metadata": {
        "id": "-SyvG1uc-Va8"
      }
    },
    {
      "cell_type": "code",
      "source": [
        "#30 list of strings\n",
        "words = [\"apple\",\"banana\",\"apple\",\"cherry\"]\n",
        "#convert lists to set (remove duplicates)\n",
        "words_set= set(words)\n",
        "print(words)"
      ],
      "metadata": {
        "colab": {
          "base_uri": "https://localhost:8080/"
        },
        "id": "xfPQ7_zN37LZ",
        "outputId": "b4fee96c-f40a-4ee4-95b0-06f1c063a616"
      },
      "execution_count": 41,
      "outputs": [
        {
          "output_type": "stream",
          "name": "stdout",
          "text": [
            "['apple', 'banana', 'apple', 'cherry']\n"
          ]
        }
      ]
    }
  ]
}